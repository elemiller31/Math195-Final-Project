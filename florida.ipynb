version https://git-lfs.github.com/spec/v1
oid sha256:6d1adf631ad8c860083575fc832ae5a8fa5f1ac850582fbbc51ed361dd1e1b2d
size 38733
