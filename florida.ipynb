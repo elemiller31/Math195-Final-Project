version https://git-lfs.github.com/spec/v1
oid sha256:03d94b875828ae9c144f33d16b25e2b59e098a61eebf91ca91e14653be3d2122
size 331335
