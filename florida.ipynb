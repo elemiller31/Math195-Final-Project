version https://git-lfs.github.com/spec/v1
oid sha256:eee6dcbd2a78ec92210d9b9065f8a809c6eee49cddf87475b9b80f29c3104afa
size 574
