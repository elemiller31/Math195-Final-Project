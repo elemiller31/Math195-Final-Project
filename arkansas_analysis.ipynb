version https://git-lfs.github.com/spec/v1
oid sha256:8a71b7ea388894076a1e3b95295b9782f09be3e4b17721791c3a5bca025c06e2
size 2753439
