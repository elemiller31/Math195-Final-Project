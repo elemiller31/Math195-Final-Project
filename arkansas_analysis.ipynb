version https://git-lfs.github.com/spec/v1
oid sha256:9858a62fd615f2ddb548dc12d871789399f427a3741bb8b2d851e26efb8d89b0
size 1118233
