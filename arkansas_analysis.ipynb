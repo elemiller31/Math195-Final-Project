version https://git-lfs.github.com/spec/v1
oid sha256:ababd8b1e2ed775b314f32960a93af059e7c006861f8da689663f0731caf6347
size 1735276
