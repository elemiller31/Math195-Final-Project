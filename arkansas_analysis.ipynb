version https://git-lfs.github.com/spec/v1
oid sha256:8f5deed9e4d0fcc7d8e1f568d9e16d5750c5b70945b855d720f9d2c0468f23a5
size 3856343
