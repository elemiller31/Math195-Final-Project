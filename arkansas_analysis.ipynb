version https://git-lfs.github.com/spec/v1
oid sha256:b58d118cb31991309b5539b2d6279308c3b1d89f57c2fc370c975d0b64812377
size 41221
