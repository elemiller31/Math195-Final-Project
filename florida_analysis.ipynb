version https://git-lfs.github.com/spec/v1
oid sha256:60e20e8015a01c97e727ceaea45b0b2b14fdbfa06d7d9013fb1aecbc5b978ed3
size 596952
