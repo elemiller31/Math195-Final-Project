version https://git-lfs.github.com/spec/v1
oid sha256:943fe27740877385aebc3d5ee4e08190a5175e8556e0a6491b17e04eac7776c3
size 1602924
