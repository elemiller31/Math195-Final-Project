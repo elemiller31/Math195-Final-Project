version https://git-lfs.github.com/spec/v1
oid sha256:abf1ecebc74d7c45377c9fc478d9930a0a041a6556dd886c2da0db36b6d7e9f6
size 1946942
