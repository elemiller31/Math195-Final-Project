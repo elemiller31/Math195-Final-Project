version https://git-lfs.github.com/spec/v1
oid sha256:c9bb9000820d4fbece9e76cab814766ccae4bec20cd37a35f53ed5ec3ae94133
size 37383245
