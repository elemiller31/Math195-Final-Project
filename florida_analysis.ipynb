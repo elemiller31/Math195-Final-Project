version https://git-lfs.github.com/spec/v1
oid sha256:7f454432f0a41ba3b4369d0bee97b22bd3c5e0906919eb4dd866c1f84f8611cf
size 450295
