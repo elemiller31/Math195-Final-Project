version https://git-lfs.github.com/spec/v1
oid sha256:fbc1ff3e40dcea0f803c8ce420c8121e33fb1d1d4f431e14e2db3125fd425be1
size 1399262
