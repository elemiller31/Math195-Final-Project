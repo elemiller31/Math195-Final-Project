version https://git-lfs.github.com/spec/v1
oid sha256:3cc6df71c76dc0eb652f0297e6c5b0e35a332eadb5ad1b057dedc46058cc0440
size 638463
