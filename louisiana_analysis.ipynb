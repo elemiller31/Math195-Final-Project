version https://git-lfs.github.com/spec/v1
oid sha256:492c0bbaae98007e2894e59ca894760bee967118e90f29160120c6a702588d24
size 830531
