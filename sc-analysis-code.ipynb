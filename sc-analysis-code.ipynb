{
 "cells": [
  {
   "cell_type": "markdown",
   "metadata": {},
   "source": [
    "# South Carolina\n",
    "We will be analyzing the congressional district map passed in 2021 in South Carolina followwing the 2020 census. Currently South Carolina's congressional map is in litigation so we want to examine how that could have effected the 2024 U.S. House election."
   ]
  },
  {
   "cell_type": "markdown",
   "metadata": {},
   "source": [
    "## Import Required Packages"
   ]
  },
  {
   "cell_type": "code",
   "execution_count": 2,
   "metadata": {},
   "outputs": [],
   "source": [
    "# For working with graphs\n",
    "import networkx as nx\n",
    "\n",
    "# For making plots\n",
    "import matplotlib.pyplot as plt\n",
    "import numpy as np\n",
    "\n",
    "# Needed for gerrychain\n",
    "import gerrychain   \n",
    "from gerrychain import Graph, Partition, proposals, updaters, constraints, accept, MarkovChain, GeographicPartition\n",
    "from gerrychain.updaters import cut_edges, Tally\n",
    "from gerrychain.tree import recursive_tree_part\n",
    "from gerrychain.proposals import recom\n",
    "from gerrychain.accept import always_accept\n",
    "from functools import partial\n",
    "import geopandas as gpd\n",
    "import pandas as pd\n",
    "\n",
    "# Other necessary packages\n",
    "import random\n",
    "import maup"
   ]
  },
  {
   "cell_type": "code",
   "execution_count": 3,
   "metadata": {},
   "outputs": [
    {
     "data": {
      "text/plain": [
       "Index(['DISTRICT', 'POPULATION', 'DEVIATION', 'F_DEVIATIO', 'HISPANIC_O',\n",
       "       'F_HISPANIC', 'NH_WHT', 'F_NH_WHT', 'NH_DOJ_BLK', 'F_NH_DOJ_B',\n",
       "       'F18_POP', 'F_18_POP', 'H18_POP', 'F_H18_POP', 'NH18_WHT', 'F_NH18_WHT',\n",
       "       'NH18_DOJ_B', 'F_NH18_DOJ', 'geometry'],\n",
       "      dtype='object')"
      ]
     },
     "execution_count": 3,
     "metadata": {},
     "output_type": "execute_result"
    }
   ],
   "source": [
    "# Import SC data into a geodataframe\n",
    "sc_cong_gdf = gpd.read_file(\"S865_Congress/S865_Congress.shp\")\n",
    "sc_cong_gdf.columns"
   ]
  },
  {
   "cell_type": "code",
   "execution_count": 4,
   "metadata": {},
   "outputs": [
    {
     "name": "stderr",
     "output_type": "stream",
     "text": [
      "/Users/annef/anaconda3/envs/polidist/lib/python3.11/site-packages/maup/repair.py:331: UserWarning: Geometry is in a geographic CRS. Results from 'area' are likely incorrect. Use 'GeoSeries.to_crs()' to re-project geometries to a projected CRS before this operation.\n",
      "\n",
      "  overlaps = inters[inters.area > 0].make_valid()\n"
     ]
    },
    {
     "data": {
      "text/plain": [
       "True"
      ]
     },
     "execution_count": 4,
     "metadata": {},
     "output_type": "execute_result"
    }
   ],
   "source": [
    "# Check geodataframe using maup's doctor function\n",
    "maup.doctor(sc_cong_gdf)"
   ]
  },
  {
   "cell_type": "markdown",
   "metadata": {},
   "source": [
    "We are good to use these shapefiles."
   ]
  },
  {
   "cell_type": "markdown",
   "metadata": {},
   "source": [
    "## Import and Tidy Election Data"
   ]
  },
  {
   "cell_type": "code",
   "execution_count": 6,
   "metadata": {},
   "outputs": [
    {
     "data": {
      "text/plain": [
       "Index(['UNIQUE_ID', 'COUNTYFP', 'County', 'Precinct', 'Prec_Code', 'G22A1NO',\n",
       "       'G22A1YES', 'G22A2NO', 'G22A2YES', 'G22AGRCNEL', 'G22AGRGEDM',\n",
       "       'G22AGROWRI', 'G22AGRRWEA', 'G22ATGOWRI', 'G22ATGRWIL', 'G22COMOWRI',\n",
       "       'G22COMRECK', 'G22GOVDCUN', 'G22GOVLREE', 'G22GOVOWRI', 'G22GOVRMCM',\n",
       "       'G22SOSDBUT', 'G22SOSOWRI', 'G22SOSRHAM', 'G22SUPAELL', 'G22SUPDELL',\n",
       "       'G22SUPGMIC', 'G22SUPOWRI', 'G22SUPRWEA', 'G22TREAWOR', 'G22TREOWRI',\n",
       "       'G22TRERLOF', 'G22USSDMAT', 'G22USSOWRI', 'G22USSRSCO', 'geometry'],\n",
       "      dtype='object')"
      ]
     },
     "execution_count": 6,
     "metadata": {},
     "output_type": "execute_result"
    }
   ],
   "source": [
    "# Import 2022 General Election voting data\n",
    "sc_data_gdf = gpd.read_file('sc_2022_gen_st_prec/sc_2022_gen_st_prec.shp')\n",
    "sc_data_gdf.columns"
   ]
  },
  {
   "cell_type": "code",
   "execution_count": 7,
   "metadata": {},
   "outputs": [
    {
     "data": {
      "text/html": [
       "<div>\n",
       "<style scoped>\n",
       "    .dataframe tbody tr th:only-of-type {\n",
       "        vertical-align: middle;\n",
       "    }\n",
       "\n",
       "    .dataframe tbody tr th {\n",
       "        vertical-align: top;\n",
       "    }\n",
       "\n",
       "    .dataframe thead th {\n",
       "        text-align: right;\n",
       "    }\n",
       "</style>\n",
       "<table border=\"1\" class=\"dataframe\">\n",
       "  <thead>\n",
       "    <tr style=\"text-align: right;\">\n",
       "      <th></th>\n",
       "      <th>UNIQUE_ID</th>\n",
       "      <th>COUNTYFP</th>\n",
       "      <th>County</th>\n",
       "      <th>Precinct</th>\n",
       "      <th>Prec_Code</th>\n",
       "      <th>geometry</th>\n",
       "      <th>G22USSDMAT</th>\n",
       "      <th>G22USSOWRI</th>\n",
       "      <th>G22USSRSCO</th>\n",
       "    </tr>\n",
       "  </thead>\n",
       "  <tbody>\n",
       "    <tr>\n",
       "      <th>0</th>\n",
       "      <td>ABBEVILLE-:-ABBEVILLE NO. 1</td>\n",
       "      <td>001</td>\n",
       "      <td>ABBEVILLE</td>\n",
       "      <td>ABBEVILLE NO. 1</td>\n",
       "      <td>001</td>\n",
       "      <td>POLYGON ((1606939.510 874521.176, 1606937.194 ...</td>\n",
       "      <td>212</td>\n",
       "      <td>0</td>\n",
       "      <td>772</td>\n",
       "    </tr>\n",
       "    <tr>\n",
       "      <th>1</th>\n",
       "      <td>ABBEVILLE-:-ABBEVILLE NO. 2</td>\n",
       "      <td>001</td>\n",
       "      <td>ABBEVILLE</td>\n",
       "      <td>ABBEVILLE NO. 2</td>\n",
       "      <td>002</td>\n",
       "      <td>POLYGON ((1594909.405 858817.595, 1594971.672 ...</td>\n",
       "      <td>395</td>\n",
       "      <td>1</td>\n",
       "      <td>236</td>\n",
       "    </tr>\n",
       "    <tr>\n",
       "      <th>2</th>\n",
       "      <td>ABBEVILLE-:-ABBEVILLE NO. 3</td>\n",
       "      <td>001</td>\n",
       "      <td>ABBEVILLE</td>\n",
       "      <td>ABBEVILLE NO. 3</td>\n",
       "      <td>003</td>\n",
       "      <td>POLYGON ((1583078.122 855552.541, 1583107.248 ...</td>\n",
       "      <td>224</td>\n",
       "      <td>0</td>\n",
       "      <td>361</td>\n",
       "    </tr>\n",
       "    <tr>\n",
       "      <th>3</th>\n",
       "      <td>ABBEVILLE-:-ABBEVILLE NO. 4</td>\n",
       "      <td>001</td>\n",
       "      <td>ABBEVILLE</td>\n",
       "      <td>ABBEVILLE NO. 4</td>\n",
       "      <td>004</td>\n",
       "      <td>POLYGON ((1549552.812 878305.798, 1549631.053 ...</td>\n",
       "      <td>115</td>\n",
       "      <td>0</td>\n",
       "      <td>327</td>\n",
       "    </tr>\n",
       "    <tr>\n",
       "      <th>4</th>\n",
       "      <td>ABBEVILLE-:-ANTREVILLE</td>\n",
       "      <td>001</td>\n",
       "      <td>ABBEVILLE</td>\n",
       "      <td>ANTREVILLE</td>\n",
       "      <td>005</td>\n",
       "      <td>POLYGON ((1510420.533 896330.222, 1512613.421 ...</td>\n",
       "      <td>112</td>\n",
       "      <td>2</td>\n",
       "      <td>610</td>\n",
       "    </tr>\n",
       "    <tr>\n",
       "      <th>...</th>\n",
       "      <td>...</td>\n",
       "      <td>...</td>\n",
       "      <td>...</td>\n",
       "      <td>...</td>\n",
       "      <td>...</td>\n",
       "      <td>...</td>\n",
       "      <td>...</td>\n",
       "      <td>...</td>\n",
       "      <td>...</td>\n",
       "    </tr>\n",
       "    <tr>\n",
       "      <th>2256</th>\n",
       "      <td>CLARENDON-:-WILSON FORESTON</td>\n",
       "      <td>027</td>\n",
       "      <td>CLARENDON</td>\n",
       "      <td>WILSON FORESTON</td>\n",
       "      <td>024</td>\n",
       "      <td>POLYGON ((2280920.969 688686.111, 2281183.325 ...</td>\n",
       "      <td>336</td>\n",
       "      <td>0</td>\n",
       "      <td>269</td>\n",
       "    </tr>\n",
       "    <tr>\n",
       "      <th>2257</th>\n",
       "      <td>BARNWELL-:-SRS</td>\n",
       "      <td>011</td>\n",
       "      <td>BARNWELL</td>\n",
       "      <td>SRS</td>\n",
       "      <td>016</td>\n",
       "      <td>POLYGON ((1854531.115 530169.744, 1852508.444 ...</td>\n",
       "      <td>0</td>\n",
       "      <td>0</td>\n",
       "      <td>0</td>\n",
       "    </tr>\n",
       "    <tr>\n",
       "      <th>2258</th>\n",
       "      <td>BERKELEY-:-POMFLANT</td>\n",
       "      <td>015</td>\n",
       "      <td>BERKELEY</td>\n",
       "      <td>POMFLANT</td>\n",
       "      <td>099</td>\n",
       "      <td>POLYGON ((2306189.372 424875.431, 2306190.792 ...</td>\n",
       "      <td>0</td>\n",
       "      <td>0</td>\n",
       "      <td>0</td>\n",
       "    </tr>\n",
       "    <tr>\n",
       "      <th>2259</th>\n",
       "      <td>BERKELEY-:-PINE GROVE</td>\n",
       "      <td>015</td>\n",
       "      <td>BERKELEY</td>\n",
       "      <td>PINE GROVE</td>\n",
       "      <td>098</td>\n",
       "      <td>POLYGON ((2307049.753 432823.455, 2307052.393 ...</td>\n",
       "      <td>0</td>\n",
       "      <td>0</td>\n",
       "      <td>0</td>\n",
       "    </tr>\n",
       "    <tr>\n",
       "      <th>2260</th>\n",
       "      <td>AIKEN-:-SRS</td>\n",
       "      <td>003</td>\n",
       "      <td>AIKEN</td>\n",
       "      <td>SRS</td>\n",
       "      <td>000</td>\n",
       "      <td>POLYGON ((1745766.799 510401.203, 1745836.379 ...</td>\n",
       "      <td>0</td>\n",
       "      <td>0</td>\n",
       "      <td>0</td>\n",
       "    </tr>\n",
       "  </tbody>\n",
       "</table>\n",
       "<p>2261 rows × 9 columns</p>\n",
       "</div>"
      ],
      "text/plain": [
       "                        UNIQUE_ID COUNTYFP     County         Precinct  \\\n",
       "0     ABBEVILLE-:-ABBEVILLE NO. 1      001  ABBEVILLE  ABBEVILLE NO. 1   \n",
       "1     ABBEVILLE-:-ABBEVILLE NO. 2      001  ABBEVILLE  ABBEVILLE NO. 2   \n",
       "2     ABBEVILLE-:-ABBEVILLE NO. 3      001  ABBEVILLE  ABBEVILLE NO. 3   \n",
       "3     ABBEVILLE-:-ABBEVILLE NO. 4      001  ABBEVILLE  ABBEVILLE NO. 4   \n",
       "4          ABBEVILLE-:-ANTREVILLE      001  ABBEVILLE       ANTREVILLE   \n",
       "...                           ...      ...        ...              ...   \n",
       "2256  CLARENDON-:-WILSON FORESTON      027  CLARENDON  WILSON FORESTON   \n",
       "2257               BARNWELL-:-SRS      011   BARNWELL              SRS   \n",
       "2258          BERKELEY-:-POMFLANT      015   BERKELEY         POMFLANT   \n",
       "2259        BERKELEY-:-PINE GROVE      015   BERKELEY       PINE GROVE   \n",
       "2260                  AIKEN-:-SRS      003      AIKEN              SRS   \n",
       "\n",
       "     Prec_Code                                           geometry  G22USSDMAT  \\\n",
       "0          001  POLYGON ((1606939.510 874521.176, 1606937.194 ...         212   \n",
       "1          002  POLYGON ((1594909.405 858817.595, 1594971.672 ...         395   \n",
       "2          003  POLYGON ((1583078.122 855552.541, 1583107.248 ...         224   \n",
       "3          004  POLYGON ((1549552.812 878305.798, 1549631.053 ...         115   \n",
       "4          005  POLYGON ((1510420.533 896330.222, 1512613.421 ...         112   \n",
       "...        ...                                                ...         ...   \n",
       "2256       024  POLYGON ((2280920.969 688686.111, 2281183.325 ...         336   \n",
       "2257       016  POLYGON ((1854531.115 530169.744, 1852508.444 ...           0   \n",
       "2258       099  POLYGON ((2306189.372 424875.431, 2306190.792 ...           0   \n",
       "2259       098  POLYGON ((2307049.753 432823.455, 2307052.393 ...           0   \n",
       "2260       000  POLYGON ((1745766.799 510401.203, 1745836.379 ...           0   \n",
       "\n",
       "      G22USSOWRI  G22USSRSCO  \n",
       "0              0         772  \n",
       "1              1         236  \n",
       "2              0         361  \n",
       "3              0         327  \n",
       "4              2         610  \n",
       "...          ...         ...  \n",
       "2256           0         269  \n",
       "2257           0           0  \n",
       "2258           0           0  \n",
       "2259           0           0  \n",
       "2260           0           0  \n",
       "\n",
       "[2261 rows x 9 columns]"
      ]
     },
     "execution_count": 7,
     "metadata": {},
     "output_type": "execute_result"
    }
   ],
   "source": [
    "# List of specific columns to keep\n",
    "columns_to_keep = ['UNIQUE_ID', 'COUNTYFP', 'County', 'Precinct', 'Prec_Code', 'geometry']\n",
    "\n",
    "# Add columns starting with 'G22USS'\n",
    "filtered_columns = columns_to_keep + [col for col in sc_data_gdf.columns if col.startswith('G22USS')]\n",
    "\n",
    "# Filter the GeoDataFrame\n",
    "sc_data_gdf = sc_data_gdf[filtered_columns]\n",
    "\n",
    "# Check that we've kept the right stuff\n",
    "sc_data_gdf"
   ]
  },
  {
   "cell_type": "markdown",
   "metadata": {},
   "source": [
    "Now we will assign precincts to congressional districts."
   ]
  },
  {
   "cell_type": "code",
   "execution_count": 8,
   "metadata": {},
   "outputs": [
    {
     "ename": "TypeError",
     "evalue": "the source and target geometries must have the same CRS. EPSG:2273 EPSG:4269",
     "output_type": "error",
     "traceback": [
      "\u001b[0;31m---------------------------------------------------------------------------\u001b[0m",
      "\u001b[0;31mTypeError\u001b[0m                                 Traceback (most recent call last)",
      "Cell \u001b[0;32mIn[8], line 1\u001b[0m\n\u001b[0;32m----> 1\u001b[0m precincts_to_districts_assignment \u001b[38;5;241m=\u001b[39m \u001b[43mmaup\u001b[49m\u001b[38;5;241;43m.\u001b[39;49m\u001b[43massign\u001b[49m\u001b[43m(\u001b[49m\u001b[43msc_data_gdf\u001b[49m\u001b[38;5;241;43m.\u001b[39;49m\u001b[43mgeometry\u001b[49m\u001b[43m,\u001b[49m\u001b[43m \u001b[49m\u001b[43msc_cong_gdf\u001b[49m\u001b[38;5;241;43m.\u001b[39;49m\u001b[43mgeometry\u001b[49m\u001b[43m)\u001b[49m\n\u001b[1;32m      2\u001b[0m precincts_to_districts_assignment\n",
      "File \u001b[0;32m~/anaconda3/envs/polidist/lib/python3.11/site-packages/maup/crs.py:9\u001b[0m, in \u001b[0;36mrequire_same_crs.<locals>.wrapped\u001b[0;34m(*args, **kwargs)\u001b[0m\n\u001b[1;32m      7\u001b[0m geoms1, geoms2, \u001b[38;5;241m*\u001b[39mrest \u001b[38;5;241m=\u001b[39m args\n\u001b[1;32m      8\u001b[0m \u001b[38;5;28;01mif\u001b[39;00m \u001b[38;5;129;01mnot\u001b[39;00m geoms1\u001b[38;5;241m.\u001b[39mcrs \u001b[38;5;241m==\u001b[39m geoms2\u001b[38;5;241m.\u001b[39mcrs:\n\u001b[0;32m----> 9\u001b[0m     \u001b[38;5;28;01mraise\u001b[39;00m \u001b[38;5;167;01mTypeError\u001b[39;00m(\n\u001b[1;32m     10\u001b[0m         \u001b[38;5;124m\"\u001b[39m\u001b[38;5;124mthe source and target geometries must have the same CRS. \u001b[39m\u001b[38;5;132;01m{}\u001b[39;00m\u001b[38;5;124m \u001b[39m\u001b[38;5;132;01m{}\u001b[39;00m\u001b[38;5;124m\"\u001b[39m\u001b[38;5;241m.\u001b[39mformat(\n\u001b[1;32m     11\u001b[0m             geoms1\u001b[38;5;241m.\u001b[39mcrs, geoms2\u001b[38;5;241m.\u001b[39mcrs\n\u001b[1;32m     12\u001b[0m         )\n\u001b[1;32m     13\u001b[0m     )\n\u001b[1;32m     14\u001b[0m \u001b[38;5;28;01mreturn\u001b[39;00m f(\u001b[38;5;241m*\u001b[39margs, \u001b[38;5;241m*\u001b[39m\u001b[38;5;241m*\u001b[39mkwargs)\n",
      "\u001b[0;31mTypeError\u001b[0m: the source and target geometries must have the same CRS. EPSG:2273 EPSG:4269"
     ]
    }
   ],
   "source": [
    "precincts_to_districts_assignment = maup.assign(sc_data_gdf.geometry, sc_cong_gdf.geometry)\n",
    "precincts_to_districts_assignment"
   ]
  },
  {
   "cell_type": "code",
   "execution_count": null,
   "metadata": {},
   "outputs": [],
   "source": []
  },
  {
   "cell_type": "code",
   "execution_count": null,
   "metadata": {},
   "outputs": [],
   "source": []
  },
  {
   "cell_type": "markdown",
   "metadata": {},
   "source": [
    "Need to add district to this so we are going to left join with data from general election congressional precinct data but only add the district column."
   ]
  },
  {
   "cell_type": "code",
   "execution_count": 82,
   "metadata": {},
   "outputs": [],
   "source": [
    "sc_data_cong_gdf = gpd.read_file('sc_2022_gen_prec/sc_2022_gen_cong_prec/sc_2022_gen_cong_prec.shp')\n",
    "sc_data_gdf = sc_data_gdf.merge(sc_data_cong_gdf[['Prec_Code', 'CONG_DIST']], on='Prec_Code', how='left')"
   ]
  },
  {
   "cell_type": "code",
   "execution_count": 83,
   "metadata": {},
   "outputs": [
    {
     "data": {
      "text/plain": [
       "array(['03', '02', '06', '01', '05', '07', '04'], dtype=object)"
      ]
     },
     "execution_count": 83,
     "metadata": {},
     "output_type": "execute_result"
    }
   ],
   "source": [
    "# How districts are inputted into the data dataframe\n",
    "sc_data_gdf[\"CONG_DIST\"].unique()"
   ]
  },
  {
   "cell_type": "code",
   "execution_count": 84,
   "metadata": {},
   "outputs": [
    {
     "data": {
      "text/plain": [
       "array(['1', '2', '3', '4', '5', '6', '7'], dtype=object)"
      ]
     },
     "execution_count": 84,
     "metadata": {},
     "output_type": "execute_result"
    }
   ],
   "source": [
    "# How districts are inputted into the shapefile dataframe\n",
    "sc_cong_gdf[\"DISTRICT\"].unique()"
   ]
  },
  {
   "cell_type": "code",
   "execution_count": 85,
   "metadata": {},
   "outputs": [
    {
     "data": {
      "text/plain": [
       "array(['3', '2', '6', '1', '5', '7', '4'], dtype=object)"
      ]
     },
     "execution_count": 85,
     "metadata": {},
     "output_type": "execute_result"
    }
   ],
   "source": [
    "# Make the data dataframe as the districts inputted in the same manner as the shapefile so we can join\n",
    "sc_data_gdf['CONG_DIST'] = sc_data_gdf['CONG_DIST'].astype(str).str.lstrip('0')\n",
    "sc_data_gdf[\"CONG_DIST\"].unique()"
   ]
  },
  {
   "cell_type": "code",
   "execution_count": 86,
   "metadata": {},
   "outputs": [],
   "source": [
    "sc_cong_gdf = sc_cong_gdf.merge(sc_data_gdf, left_on='DISTRICT', right_on='CONG_DIST', how='inner')"
   ]
  },
  {
   "cell_type": "code",
   "execution_count": 87,
   "metadata": {},
   "outputs": [
    {
     "data": {
      "text/html": [
       "<div>\n",
       "<style scoped>\n",
       "    .dataframe tbody tr th:only-of-type {\n",
       "        vertical-align: middle;\n",
       "    }\n",
       "\n",
       "    .dataframe tbody tr th {\n",
       "        vertical-align: top;\n",
       "    }\n",
       "\n",
       "    .dataframe thead th {\n",
       "        text-align: right;\n",
       "    }\n",
       "</style>\n",
       "<table border=\"1\" class=\"dataframe\">\n",
       "  <thead>\n",
       "    <tr style=\"text-align: right;\">\n",
       "      <th></th>\n",
       "      <th>DISTRICT</th>\n",
       "      <th>POPULATION</th>\n",
       "      <th>DEVIATION</th>\n",
       "      <th>F_DEVIATIO</th>\n",
       "      <th>HISPANIC_O</th>\n",
       "      <th>F_HISPANIC</th>\n",
       "      <th>NH_WHT</th>\n",
       "      <th>F_NH_WHT</th>\n",
       "      <th>NH_DOJ_BLK</th>\n",
       "      <th>F_NH_DOJ_B</th>\n",
       "      <th>...</th>\n",
       "      <th>UNIQUE_ID</th>\n",
       "      <th>COUNTYFP</th>\n",
       "      <th>County</th>\n",
       "      <th>Precinct</th>\n",
       "      <th>Prec_Code</th>\n",
       "      <th>geometry_y</th>\n",
       "      <th>G22USSDMAT</th>\n",
       "      <th>G22USSOWRI</th>\n",
       "      <th>G22USSRSCO</th>\n",
       "      <th>CONG_DIST</th>\n",
       "    </tr>\n",
       "  </thead>\n",
       "  <tbody>\n",
       "    <tr>\n",
       "      <th>0</th>\n",
       "      <td>1</td>\n",
       "      <td>731203</td>\n",
       "      <td>-1.0</td>\n",
       "      <td>-0.000001</td>\n",
       "      <td>59591</td>\n",
       "      <td>0.081497</td>\n",
       "      <td>498807</td>\n",
       "      <td>0.682173</td>\n",
       "      <td>130245</td>\n",
       "      <td>0.178124</td>\n",
       "      <td>...</td>\n",
       "      <td>ABBEVILLE-:-ABBEVILLE NO. 1</td>\n",
       "      <td>001</td>\n",
       "      <td>ABBEVILLE</td>\n",
       "      <td>ABBEVILLE NO. 1</td>\n",
       "      <td>001</td>\n",
       "      <td>POLYGON ((1606939.510 874521.176, 1606937.194 ...</td>\n",
       "      <td>212</td>\n",
       "      <td>0</td>\n",
       "      <td>772</td>\n",
       "      <td>1</td>\n",
       "    </tr>\n",
       "    <tr>\n",
       "      <th>1</th>\n",
       "      <td>1</td>\n",
       "      <td>731203</td>\n",
       "      <td>-1.0</td>\n",
       "      <td>-0.000001</td>\n",
       "      <td>59591</td>\n",
       "      <td>0.081497</td>\n",
       "      <td>498807</td>\n",
       "      <td>0.682173</td>\n",
       "      <td>130245</td>\n",
       "      <td>0.178124</td>\n",
       "      <td>...</td>\n",
       "      <td>ABBEVILLE-:-ABBEVILLE NO. 1</td>\n",
       "      <td>001</td>\n",
       "      <td>ABBEVILLE</td>\n",
       "      <td>ABBEVILLE NO. 1</td>\n",
       "      <td>001</td>\n",
       "      <td>POLYGON ((1606939.510 874521.176, 1606937.194 ...</td>\n",
       "      <td>212</td>\n",
       "      <td>0</td>\n",
       "      <td>772</td>\n",
       "      <td>1</td>\n",
       "    </tr>\n",
       "    <tr>\n",
       "      <th>2</th>\n",
       "      <td>1</td>\n",
       "      <td>731203</td>\n",
       "      <td>-1.0</td>\n",
       "      <td>-0.000001</td>\n",
       "      <td>59591</td>\n",
       "      <td>0.081497</td>\n",
       "      <td>498807</td>\n",
       "      <td>0.682173</td>\n",
       "      <td>130245</td>\n",
       "      <td>0.178124</td>\n",
       "      <td>...</td>\n",
       "      <td>ABBEVILLE-:-ABBEVILLE NO. 2</td>\n",
       "      <td>001</td>\n",
       "      <td>ABBEVILLE</td>\n",
       "      <td>ABBEVILLE NO. 2</td>\n",
       "      <td>002</td>\n",
       "      <td>POLYGON ((1594909.405 858817.595, 1594971.672 ...</td>\n",
       "      <td>395</td>\n",
       "      <td>1</td>\n",
       "      <td>236</td>\n",
       "      <td>1</td>\n",
       "    </tr>\n",
       "    <tr>\n",
       "      <th>3</th>\n",
       "      <td>1</td>\n",
       "      <td>731203</td>\n",
       "      <td>-1.0</td>\n",
       "      <td>-0.000001</td>\n",
       "      <td>59591</td>\n",
       "      <td>0.081497</td>\n",
       "      <td>498807</td>\n",
       "      <td>0.682173</td>\n",
       "      <td>130245</td>\n",
       "      <td>0.178124</td>\n",
       "      <td>...</td>\n",
       "      <td>ABBEVILLE-:-ABBEVILLE NO. 3</td>\n",
       "      <td>001</td>\n",
       "      <td>ABBEVILLE</td>\n",
       "      <td>ABBEVILLE NO. 3</td>\n",
       "      <td>003</td>\n",
       "      <td>POLYGON ((1583078.122 855552.541, 1583107.248 ...</td>\n",
       "      <td>224</td>\n",
       "      <td>0</td>\n",
       "      <td>361</td>\n",
       "      <td>1</td>\n",
       "    </tr>\n",
       "    <tr>\n",
       "      <th>4</th>\n",
       "      <td>1</td>\n",
       "      <td>731203</td>\n",
       "      <td>-1.0</td>\n",
       "      <td>-0.000001</td>\n",
       "      <td>59591</td>\n",
       "      <td>0.081497</td>\n",
       "      <td>498807</td>\n",
       "      <td>0.682173</td>\n",
       "      <td>130245</td>\n",
       "      <td>0.178124</td>\n",
       "      <td>...</td>\n",
       "      <td>ABBEVILLE-:-ABBEVILLE NO. 3</td>\n",
       "      <td>001</td>\n",
       "      <td>ABBEVILLE</td>\n",
       "      <td>ABBEVILLE NO. 3</td>\n",
       "      <td>003</td>\n",
       "      <td>POLYGON ((1583078.122 855552.541, 1583107.248 ...</td>\n",
       "      <td>224</td>\n",
       "      <td>0</td>\n",
       "      <td>361</td>\n",
       "      <td>1</td>\n",
       "    </tr>\n",
       "  </tbody>\n",
       "</table>\n",
       "<p>5 rows × 29 columns</p>\n",
       "</div>"
      ],
      "text/plain": [
       "  DISTRICT  POPULATION  DEVIATION  F_DEVIATIO  HISPANIC_O  F_HISPANIC  NH_WHT  \\\n",
       "0        1      731203       -1.0   -0.000001       59591    0.081497  498807   \n",
       "1        1      731203       -1.0   -0.000001       59591    0.081497  498807   \n",
       "2        1      731203       -1.0   -0.000001       59591    0.081497  498807   \n",
       "3        1      731203       -1.0   -0.000001       59591    0.081497  498807   \n",
       "4        1      731203       -1.0   -0.000001       59591    0.081497  498807   \n",
       "\n",
       "   F_NH_WHT  NH_DOJ_BLK  F_NH_DOJ_B  ...                    UNIQUE_ID  \\\n",
       "0  0.682173      130245    0.178124  ...  ABBEVILLE-:-ABBEVILLE NO. 1   \n",
       "1  0.682173      130245    0.178124  ...  ABBEVILLE-:-ABBEVILLE NO. 1   \n",
       "2  0.682173      130245    0.178124  ...  ABBEVILLE-:-ABBEVILLE NO. 2   \n",
       "3  0.682173      130245    0.178124  ...  ABBEVILLE-:-ABBEVILLE NO. 3   \n",
       "4  0.682173      130245    0.178124  ...  ABBEVILLE-:-ABBEVILLE NO. 3   \n",
       "\n",
       "   COUNTYFP     County         Precinct  Prec_Code  \\\n",
       "0       001  ABBEVILLE  ABBEVILLE NO. 1        001   \n",
       "1       001  ABBEVILLE  ABBEVILLE NO. 1        001   \n",
       "2       001  ABBEVILLE  ABBEVILLE NO. 2        002   \n",
       "3       001  ABBEVILLE  ABBEVILLE NO. 3        003   \n",
       "4       001  ABBEVILLE  ABBEVILLE NO. 3        003   \n",
       "\n",
       "                                          geometry_y  G22USSDMAT  G22USSOWRI  \\\n",
       "0  POLYGON ((1606939.510 874521.176, 1606937.194 ...         212           0   \n",
       "1  POLYGON ((1606939.510 874521.176, 1606937.194 ...         212           0   \n",
       "2  POLYGON ((1594909.405 858817.595, 1594971.672 ...         395           1   \n",
       "3  POLYGON ((1583078.122 855552.541, 1583107.248 ...         224           0   \n",
       "4  POLYGON ((1583078.122 855552.541, 1583107.248 ...         224           0   \n",
       "\n",
       "  G22USSRSCO CONG_DIST  \n",
       "0        772         1  \n",
       "1        772         1  \n",
       "2        236         1  \n",
       "3        361         1  \n",
       "4        361         1  \n",
       "\n",
       "[5 rows x 29 columns]"
      ]
     },
     "execution_count": 87,
     "metadata": {},
     "output_type": "execute_result"
    }
   ],
   "source": [
    "sc_cong_gdf.head()"
   ]
  }
 ],
 "metadata": {
  "kernelspec": {
   "display_name": "polidist",
   "language": "python",
   "name": "python3"
  },
  "language_info": {
   "codemirror_mode": {
    "name": "ipython",
    "version": 3
   },
   "file_extension": ".py",
   "mimetype": "text/x-python",
   "name": "python",
   "nbconvert_exporter": "python",
   "pygments_lexer": "ipython3",
   "version": "3.11.9"
  }
 },
 "nbformat": 4,
 "nbformat_minor": 2
}
