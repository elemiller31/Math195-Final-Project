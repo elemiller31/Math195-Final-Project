version https://git-lfs.github.com/spec/v1
oid sha256:757f85fd3a7cd78146d1fac0582478f9ca1eee1e2f1101f82d36c7a1e6270b55
size 347787
